{
 "cells": [
  {
   "cell_type": "code",
   "execution_count": 1,
   "metadata": {
    "collapsed": false
   },
   "outputs": [
    {
     "name": "stdout",
     "output_type": "stream",
     "text": [
      "['mr', 'take', 'not', 'dalmation', 'worthless', 'stop', 'food', 'problem', 'quit', 'love', 'cote', 'to', 'dog', 'so', 'my', 'flea', 'garbage', 'buying', 'help', 'him', 'ate', 'has', 'I', 'is', 'posting', 'licks', 'pelease', 'stupid', 'how', 'steak', 'maybe', 'park']\n",
      "[['my', 'dog', 'has', 'flea', 'problem', 'help', 'pelease'], ['maybe', 'not', 'take', 'him', 'to', 'dog', 'park', 'stupid'], ['my', 'dalmation', 'is', 'so', 'cote', 'I', 'love', 'him'], ['stop', 'posting', 'stupid', 'worthless', 'garbage'], ['mr', 'licks', 'ate', 'my', 'steak', 'how', 'to', 'stop', 'him'], ['quit', 'buying', 'worthless', 'dog', 'food', 'stupid']]\n"
     ]
    }
   ],
   "source": [
    "import bayes\n",
    "listOPosts, listClasses = bayes.loadDataSet()\n",
    "myVocabList = bayes.createVocabList(listOPosts)\n",
    "print(myVocabList)\n",
    "print(listOPosts)"
   ]
  },
  {
   "cell_type": "code",
   "execution_count": 2,
   "metadata": {
    "collapsed": false
   },
   "outputs": [
    {
     "name": "stdout",
     "output_type": "stream",
     "text": [
      "[0, 0, 0, 0, 0, 0, 0, 1, 0, 0, 0, 0, 1, 0, 1, 1, 0, 0, 1, 0, 0, 1, 0, 0, 0, 0, 1, 0, 0, 0, 0, 0]\n",
      "[0, 0, 0, 0, 1, 1, 0, 0, 0, 0, 0, 0, 0, 0, 0, 0, 1, 0, 0, 0, 0, 0, 0, 0, 1, 0, 0, 1, 0, 0, 0, 0]\n"
     ]
    }
   ],
   "source": [
    "from imp import reload\n",
    "print(bayes.setOfWords2Vec(myVocabList, listOPosts[0]))\n",
    "print(bayes.setOfWords2Vec(myVocabList, listOPosts[3]))\n"
   ]
  },
  {
   "cell_type": "code",
   "execution_count": 3,
   "metadata": {
    "collapsed": false,
    "scrolled": true
   },
   "outputs": [
    {
     "name": "stdout",
     "output_type": "stream",
     "text": [
      "0.5\n",
      "[ 0.04166667  0.          0.          0.04166667  0.          0.04166667\n",
      "  0.          0.04166667  0.          0.04166667  0.04166667  0.04166667\n",
      "  0.04166667  0.04166667  0.125       0.04166667  0.          0.\n",
      "  0.04166667  0.08333333  0.04166667  0.04166667  0.04166667  0.04166667\n",
      "  0.          0.04166667  0.04166667  0.          0.04166667  0.04166667\n",
      "  0.          0.        ]\n",
      "[ 0.          0.05263158  0.05263158  0.          0.10526316  0.05263158\n",
      "  0.05263158  0.          0.05263158  0.          0.          0.05263158\n",
      "  0.10526316  0.          0.          0.          0.05263158  0.05263158\n",
      "  0.          0.05263158  0.          0.          0.          0.\n",
      "  0.05263158  0.          0.          0.15789474  0.          0.\n",
      "  0.05263158  0.05263158]\n"
     ]
    }
   ],
   "source": [
    "reload(bayes)\n",
    "from numpy import *\n",
    "listOPosts, listClasses = bayes.loadDataSet()\n",
    "myVocabList = bayes.createVocabList(listOPosts)\n",
    "trainMat = []\n",
    "for postinDoc in listOPosts:\n",
    "    trainMat.append(bayes.setOfWords2Vec(myVocabList, postinDoc))\n",
    "p0V,p1V,pAb = bayes.trainNB0(trainMat,listClasses)\n",
    "print(pAb)\n",
    "print(p0V)\n",
    "print(p1V)"
   ]
  },
  {
   "cell_type": "code",
   "execution_count": 4,
   "metadata": {
    "collapsed": false
   },
   "outputs": [
    {
     "name": "stdout",
     "output_type": "stream",
     "text": [
      "['love', 'my', 'dalmation'] classified as: 0\n",
      "['stupid', 'garbage'] classified as: 1\n"
     ]
    }
   ],
   "source": [
    "reload(bayes)\n",
    "bayes.testingNB()"
   ]
  },
  {
   "cell_type": "code",
   "execution_count": 9,
   "metadata": {
    "collapsed": false
   },
   "outputs": [
    {
     "name": "stdout",
     "output_type": "stream",
     "text": [
      "['This', 'book', 'is', 'the', 'best', 'book', 'on', 'Python', 'or', 'M.L.', 'I', 'have', 'ever', 'laid', 'eyes', 'upon.']\n",
      "['This', 'book', 'is', 'the', 'best', 'book', 'on', 'Python', 'or', 'M', 'L', 'I', 'have', 'ever', 'laid', 'eyes', 'upon', '']\n"
     ]
    },
    {
     "name": "stderr",
     "output_type": "stream",
     "text": [
      "D:\\Anaconda3\\envs\\tensorflow\\lib\\site-packages\\ipykernel_launcher.py:6: FutureWarning: split() requires a non-empty pattern match.\n",
      "  \n",
      "D:\\Anaconda3\\envs\\tensorflow\\lib\\site-packages\\ipykernel_launcher.py:12: FutureWarning: split() requires a non-empty pattern match.\n",
      "  if sys.path[0] == '':\n"
     ]
    }
   ],
   "source": [
    "mySent = 'This book is the best book on Python or M.L. I have ever laid eyes upon.'\n",
    "print(mySent.split())\n",
    "\n",
    "import re\n",
    "regEx = re.compile('\\\\W*')\n",
    "listOfTokens = regEx.split(mySent)\n",
    "print(listOfTokens)\n",
    "\n",
    "#[tok.lower()  for tok in listOfTokens if len(tok) > 0]\n",
    "\n",
    "emailText = open('email/ham/6.txt').read()\n",
    "listOfTokens = regEx.split(emailText)"
   ]
  }
 ],
 "metadata": {
  "kernelspec": {
   "display_name": "Python 3",
   "language": "python",
   "name": "python3"
  },
  "language_info": {
   "codemirror_mode": {
    "name": "ipython",
    "version": 3
   },
   "file_extension": ".py",
   "mimetype": "text/x-python",
   "name": "python",
   "nbconvert_exporter": "python",
   "pygments_lexer": "ipython3",
   "version": "3.5.2"
  }
 },
 "nbformat": 4,
 "nbformat_minor": 2
}
